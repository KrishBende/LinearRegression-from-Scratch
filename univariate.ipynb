{
 "cells": [
  {
   "cell_type": "markdown",
   "metadata": {},
   "source": [
    "Linear Regression Model from Scratch for Single Independent Variables (Univariate) with Gradient Descent"
   ]
  },
  {
   "cell_type": "code",
   "execution_count": 1,
   "metadata": {},
   "outputs": [],
   "source": [
    "import numpy as np"
   ]
  },
  {
   "cell_type": "code",
   "execution_count": 2,
   "metadata": {},
   "outputs": [],
   "source": [
    "def univariate_linear_regression(x,y,lr,epochs,predict):\n",
    "\n",
    "    #Initializing bias(intercept) and weight(slope) to 0\n",
    "    bias=0\n",
    "    weight=0\n",
    "\n",
    "    for i in range(epochs):\n",
    "\n",
    "        y_pred=bias+(weight*x) #ŷ = a + bx\n",
    "\n",
    "        error=y_pred-y #Cost Function\n",
    "        \n",
    "        #Calculating gradient for intercept and slope\n",
    "        bias_gradient=np.mean(error) #Mean of error (gradient for intercept)\n",
    "        weight_gradient=np.mean(error*x) #Mean of error*x (gradient for slope)\n",
    "\n",
    "        #Updating intercept and slope using gradient descent\n",
    "        bias=bias-(lr*(bias_gradient))\n",
    "        weight=weight-(lr*(weight_gradient))\n",
    "\n",
    "    final_prediction=bias+predict*weight\n",
    "    return final_prediction"
   ]
  },
  {
   "cell_type": "code",
   "execution_count": 17,
   "metadata": {},
   "outputs": [
    {
     "data": {
      "text/plain": [
       "array([74.99750973, 39.99919113, 44.99895093])"
      ]
     },
     "execution_count": 17,
     "metadata": {},
     "output_type": "execute_result"
    }
   ],
   "source": [
    "#Example\n",
    "x_train=np.array([2,4,6])\n",
    "y_train=np.array([10,20,30])\n",
    "learning_rate=0.01\n",
    "epochs=5000\n",
    "x_test=np.array([15,8,9])\n",
    "\n",
    "\n",
    "univariate_linear_regression(x_train,y_train,learning_rate,epochs,x_test)"
   ]
  },
  {
   "cell_type": "code",
   "execution_count": null,
   "metadata": {},
   "outputs": [],
   "source": []
  }
 ],
 "metadata": {
  "kernelspec": {
   "display_name": "base",
   "language": "python",
   "name": "python3"
  },
  "language_info": {
   "codemirror_mode": {
    "name": "ipython",
    "version": 3
   },
   "file_extension": ".py",
   "mimetype": "text/x-python",
   "name": "python",
   "nbconvert_exporter": "python",
   "pygments_lexer": "ipython3",
   "version": "3.11.7"
  }
 },
 "nbformat": 4,
 "nbformat_minor": 2
}
