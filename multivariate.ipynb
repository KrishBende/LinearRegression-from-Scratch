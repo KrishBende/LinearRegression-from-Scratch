{
 "cells": [
  {
   "cell_type": "markdown",
   "metadata": {},
   "source": [
    "Linear Regression Model from Scratch for Multiple Independent Variables (Multivariate) with Gradient Descent"
   ]
  },
  {
   "cell_type": "code",
   "execution_count": 4,
   "metadata": {},
   "outputs": [],
   "source": [
    "import numpy as np"
   ]
  },
  {
   "cell_type": "code",
   "execution_count": 22,
   "metadata": {},
   "outputs": [],
   "source": [
    "def multivariate_linear_regression(x_train,y_train,lr,epochs,predict):\n",
    "\n",
    "    #Initializing bias(intercept) and weights(slopes) to 0\n",
    "    bias=0\n",
    "    weights = np.zeros(x_train.shape[1])\n",
    "\n",
    "    for i in range(epochs):\n",
    "\n",
    "        #ŷ = a + b1x1 + b2x2 + ... bnxn\n",
    "        y_pred= bias+np.dot(x_train,weights)\n",
    "        \n",
    "        error=y_pred-y_train #Cost Function\n",
    "\n",
    "        #Calculating gradient for intercept and slope\n",
    "        bias_gradient=np.mean(error) #Mean of error (gradient for intercept)\n",
    "\n",
    "        #Mean of error * x_train (gradient for slopes)\n",
    "        weights_gradients=np.mean(error[:,None]*x_train,axis=0) #Reshaping error to multiply element-wise with x_train\n",
    "\n",
    "        #Updating intercept and slopes using gradient descent\n",
    "        bias=bias-(lr*bias_gradient)\n",
    "        weights=weights-(lr*weights_gradients)\n",
    "\n",
    "    final_prediction=bias+np.dot(weights,predict)\n",
    "    return final_prediction"
   ]
  },
  {
   "cell_type": "code",
   "execution_count": 33,
   "metadata": {},
   "outputs": [
    {
     "data": {
      "text/plain": [
       "11.237413781950558"
      ]
     },
     "execution_count": 33,
     "metadata": {},
     "output_type": "execute_result"
    }
   ],
   "source": [
    "#Example\n",
    "x_train=np.array([[1,4],[2,5],[3,6]])\n",
    "y_train=np.array([7,8,9])\n",
    "learning_rate=0.01\n",
    "epochs=100\n",
    "x_test=np.array([4,7])\n",
    "multivariate_linear_regression(x_train,y_train,learning_rate,epochs,x_test)"
   ]
  },
  {
   "cell_type": "code",
   "execution_count": null,
   "metadata": {},
   "outputs": [],
   "source": []
  }
 ],
 "metadata": {
  "kernelspec": {
   "display_name": "base",
   "language": "python",
   "name": "python3"
  },
  "language_info": {
   "codemirror_mode": {
    "name": "ipython",
    "version": 3
   },
   "file_extension": ".py",
   "mimetype": "text/x-python",
   "name": "python",
   "nbconvert_exporter": "python",
   "pygments_lexer": "ipython3",
   "version": "3.11.7"
  }
 },
 "nbformat": 4,
 "nbformat_minor": 2
}
